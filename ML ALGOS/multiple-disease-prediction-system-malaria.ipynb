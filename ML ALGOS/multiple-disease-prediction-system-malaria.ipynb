{
 "cells": [
  {
   "cell_type": "code",
   "execution_count": 47,
   "metadata": {
    "_cell_guid": "b1076dfc-b9ad-4769-8c92-a6c4dae69d19",
    "_uuid": "8f2839f25d086af736a60e9eeb907d3b93b6e0e5",
    "execution": {
     "iopub.execute_input": "2022-08-19T16:57:04.646487Z",
     "iopub.status.busy": "2022-08-19T16:57:04.646141Z",
     "iopub.status.idle": "2022-08-19T16:57:04.652597Z",
     "shell.execute_reply": "2022-08-19T16:57:04.651439Z",
     "shell.execute_reply.started": "2022-08-19T16:57:04.646458Z"
    }
   },
   "outputs": [],
   "source": [
    "from PIL import Image\n",
    "import numpy as np\n",
    "import os\n",
    "import cv2\n",
    "import keras\n",
    "from keras.utils import np_utils\n",
    "from keras.models import Sequential\n",
    "from keras.layers import Conv2D,MaxPooling2D,Dense,Flatten,Dropout"
   ]
  },
  {
   "cell_type": "code",
   "execution_count": 48,
   "metadata": {
    "execution": {
     "iopub.execute_input": "2022-08-19T16:57:04.675788Z",
     "iopub.status.busy": "2022-08-19T16:57:04.675470Z",
     "iopub.status.idle": "2022-08-19T16:57:04.688258Z",
     "shell.execute_reply": "2022-08-19T16:57:04.687118Z",
     "shell.execute_reply.started": "2022-08-19T16:57:04.675759Z"
    }
   },
   "outputs": [],
   "source": [
    "import numpy as np # linear algebra\n",
    "import pandas as pd # data processing, CSV file I/O (e.g. pd.read_csv)\n",
    "import os\n",
    "print(os.listdir(\"../input/cell-images-for-detecting-malaria/cell_images/\"))"
   ]
  },
  {
   "cell_type": "code",
   "execution_count": 49,
   "metadata": {
    "execution": {
     "iopub.execute_input": "2022-08-19T16:57:04.701638Z",
     "iopub.status.busy": "2022-08-19T16:57:04.701379Z",
     "iopub.status.idle": "2022-08-19T16:57:05.803254Z",
     "shell.execute_reply": "2022-08-19T16:57:05.802084Z",
     "shell.execute_reply.started": "2022-08-19T16:57:04.701614Z"
    }
   },
   "outputs": [],
   "source": [
    "!ls"
   ]
  },
  {
   "cell_type": "code",
   "execution_count": 50,
   "metadata": {
    "execution": {
     "iopub.execute_input": "2022-08-19T16:57:05.806430Z",
     "iopub.status.busy": "2022-08-19T16:57:05.805855Z",
     "iopub.status.idle": "2022-08-19T16:57:54.723609Z",
     "shell.execute_reply": "2022-08-19T16:57:54.722605Z",
     "shell.execute_reply.started": "2022-08-19T16:57:05.806387Z"
    }
   },
   "outputs": [],
   "source": [
    "data=[]\n",
    "labels=[]\n",
    "Parasitized=os.listdir(\"../input/cell-images-for-detecting-malaria/cell_images/Parasitized/\")\n",
    "for a in Parasitized:\n",
    "    try:\n",
    "        image=cv2.imread(\"../input/cell-images-for-detecting-malaria/cell_images/Parasitized/\"+a)\n",
    "        image_from_array = Image.fromarray(image, 'RGB')\n",
    "        size_image = image_from_array.resize((50, 50))\n",
    "        data.append(np.array(size_image))\n",
    "        labels.append(0)\n",
    "    except AttributeError:\n",
    "        print(\"\")\n",
    "\n",
    "Uninfected=os.listdir(\"../input/cell-images-for-detecting-malaria/cell_images/Uninfected/\")\n",
    "for b in Uninfected:\n",
    "    try:\n",
    "        image=cv2.imread(\"../input/cell-images-for-detecting-malaria/cell_images/Uninfected/\"+b)\n",
    "        image_from_array = Image.fromarray(image, 'RGB')\n",
    "        size_image = image_from_array.resize((50, 50))\n",
    "        data.append(np.array(size_image))\n",
    "        labels.append(1)\n",
    "    except AttributeError:\n",
    "        print(\"\")"
   ]
  },
  {
   "cell_type": "code",
   "execution_count": 51,
   "metadata": {
    "execution": {
     "iopub.execute_input": "2022-08-19T16:57:54.725558Z",
     "iopub.status.busy": "2022-08-19T16:57:54.725193Z",
     "iopub.status.idle": "2022-08-19T16:57:54.809564Z",
     "shell.execute_reply": "2022-08-19T16:57:54.808590Z",
     "shell.execute_reply.started": "2022-08-19T16:57:54.725523Z"
    }
   },
   "outputs": [],
   "source": [
    "Cells=np.array(data)\n",
    "labels=np.array(labels)"
   ]
  },
  {
   "cell_type": "code",
   "execution_count": 52,
   "metadata": {
    "execution": {
     "iopub.execute_input": "2022-08-19T16:57:54.812697Z",
     "iopub.status.busy": "2022-08-19T16:57:54.812325Z",
     "iopub.status.idle": "2022-08-19T16:57:55.004124Z",
     "shell.execute_reply": "2022-08-19T16:57:55.002951Z",
     "shell.execute_reply.started": "2022-08-19T16:57:54.812661Z"
    }
   },
   "outputs": [],
   "source": [
    "np.save(\"Cells\",Cells)\n",
    "np.save(\"labels\",labels)"
   ]
  },
  {
   "cell_type": "code",
   "execution_count": 53,
   "metadata": {
    "execution": {
     "iopub.execute_input": "2022-08-19T16:57:55.006282Z",
     "iopub.status.busy": "2022-08-19T16:57:55.005882Z",
     "iopub.status.idle": "2022-08-19T16:57:55.078272Z",
     "shell.execute_reply": "2022-08-19T16:57:55.077238Z",
     "shell.execute_reply.started": "2022-08-19T16:57:55.006246Z"
    }
   },
   "outputs": [],
   "source": [
    "Cells=np.load(\"Cells.npy\")\n",
    "labels=np.load(\"labels.npy\")"
   ]
  },
  {
   "cell_type": "code",
   "execution_count": 54,
   "metadata": {
    "execution": {
     "iopub.execute_input": "2022-08-19T16:57:55.080211Z",
     "iopub.status.busy": "2022-08-19T16:57:55.079821Z",
     "iopub.status.idle": "2022-08-19T16:57:55.148264Z",
     "shell.execute_reply": "2022-08-19T16:57:55.147261Z",
     "shell.execute_reply.started": "2022-08-19T16:57:55.080173Z"
    }
   },
   "outputs": [],
   "source": [
    "s=np.arange(Cells.shape[0])\n",
    "np.random.shuffle(s)\n",
    "Cells=Cells[s]\n",
    "labels=labels[s]"
   ]
  },
  {
   "cell_type": "code",
   "execution_count": 55,
   "metadata": {
    "execution": {
     "iopub.execute_input": "2022-08-19T16:57:55.150206Z",
     "iopub.status.busy": "2022-08-19T16:57:55.149804Z",
     "iopub.status.idle": "2022-08-19T16:57:55.170288Z",
     "shell.execute_reply": "2022-08-19T16:57:55.169127Z",
     "shell.execute_reply.started": "2022-08-19T16:57:55.150167Z"
    }
   },
   "outputs": [],
   "source": [
    "num_classes=len(np.unique(labels))\n",
    "len_data=len(Cells)"
   ]
  },
  {
   "cell_type": "code",
   "execution_count": 56,
   "metadata": {
    "execution": {
     "iopub.execute_input": "2022-08-19T16:57:55.172092Z",
     "iopub.status.busy": "2022-08-19T16:57:55.171640Z",
     "iopub.status.idle": "2022-08-19T16:57:55.484412Z",
     "shell.execute_reply": "2022-08-19T16:57:55.482745Z",
     "shell.execute_reply.started": "2022-08-19T16:57:55.172038Z"
    }
   },
   "outputs": [],
   "source": [
    "(x_train,x_test)=Cells[(int)(0.1*len_data):],Cells[:(int)(0.1*len_data)]\n",
    "x_train = x_train.astype('float32')/255 # As we are working on image data we are normalizing data by divinding 255.\n",
    "x_test = x_test.astype('float32')/255\n",
    "train_len=len(x_train)\n",
    "test_len=len(x_test)"
   ]
  },
  {
   "cell_type": "code",
   "execution_count": 57,
   "metadata": {
    "execution": {
     "iopub.execute_input": "2022-08-19T16:57:55.491094Z",
     "iopub.status.busy": "2022-08-19T16:57:55.486732Z",
     "iopub.status.idle": "2022-08-19T16:57:55.499782Z",
     "shell.execute_reply": "2022-08-19T16:57:55.497874Z",
     "shell.execute_reply.started": "2022-08-19T16:57:55.491038Z"
    }
   },
   "outputs": [],
   "source": [
    "(y_train,y_test)=labels[(int)(0.1*len_data):],labels[:(int)(0.1*len_data)]"
   ]
  },
  {
   "cell_type": "code",
   "execution_count": 58,
   "metadata": {
    "execution": {
     "iopub.execute_input": "2022-08-19T16:57:55.507318Z",
     "iopub.status.busy": "2022-08-19T16:57:55.505753Z",
     "iopub.status.idle": "2022-08-19T16:57:55.515715Z",
     "shell.execute_reply": "2022-08-19T16:57:55.514820Z",
     "shell.execute_reply.started": "2022-08-19T16:57:55.507283Z"
    }
   },
   "outputs": [],
   "source": [
    "y_train=keras.utils.np_utils.to_categorical(y_train,num_classes)\n",
    "y_test=keras.utils.np_utils.to_categorical(y_test,num_classes)"
   ]
  },
  {
   "cell_type": "code",
   "execution_count": 59,
   "metadata": {
    "execution": {
     "iopub.execute_input": "2022-08-19T16:57:55.520304Z",
     "iopub.status.busy": "2022-08-19T16:57:55.519386Z",
     "iopub.status.idle": "2022-08-19T16:57:55.617965Z",
     "shell.execute_reply": "2022-08-19T16:57:55.617113Z",
     "shell.execute_reply.started": "2022-08-19T16:57:55.520268Z"
    }
   },
   "outputs": [],
   "source": [
    "model=Sequential()\n",
    "model.add(Conv2D(filters=16,kernel_size=2,padding=\"same\",activation=\"relu\",input_shape=(50,50,3)))\n",
    "model.add(MaxPooling2D(pool_size=2))\n",
    "model.add(Conv2D(filters=32,kernel_size=2,padding=\"same\",activation=\"relu\"))\n",
    "model.add(MaxPooling2D(pool_size=2))\n",
    "model.add(Conv2D(filters=64,kernel_size=2,padding=\"same\",activation=\"relu\"))\n",
    "model.add(MaxPooling2D(pool_size=2))\n",
    "model.add(Dropout(0.2))\n",
    "model.add(Flatten())\n",
    "model.add(Dense(500,activation=\"relu\"))\n",
    "model.add(Dropout(0.2))\n",
    "model.add(Dense(2,activation=\"softmax\"))#2 represent output layer neurons \n",
    "model.summary()"
   ]
  },
  {
   "cell_type": "code",
   "execution_count": 60,
   "metadata": {
    "execution": {
     "iopub.execute_input": "2022-08-19T16:57:55.624767Z",
     "iopub.status.busy": "2022-08-19T16:57:55.622289Z",
     "iopub.status.idle": "2022-08-19T16:57:55.636407Z",
     "shell.execute_reply": "2022-08-19T16:57:55.635385Z",
     "shell.execute_reply.started": "2022-08-19T16:57:55.624731Z"
    }
   },
   "outputs": [],
   "source": [
    "# compile the model with loss as categorical_crossentropy and using adam optimizer you can test result by trying RMSProp as well as Momentum\n",
    "model.compile(loss='categorical_crossentropy', optimizer='adam', metrics=['accuracy'])"
   ]
  },
  {
   "cell_type": "code",
   "execution_count": 61,
   "metadata": {
    "execution": {
     "iopub.execute_input": "2022-08-19T16:57:55.643584Z",
     "iopub.status.busy": "2022-08-19T16:57:55.641088Z",
     "iopub.status.idle": "2022-08-19T16:58:40.590532Z",
     "shell.execute_reply": "2022-08-19T16:58:40.589595Z",
     "shell.execute_reply.started": "2022-08-19T16:57:55.643550Z"
    }
   },
   "outputs": [],
   "source": [
    "#Fit the model with min batch size as 50[can tune batch size to some factor of 2^power ] \n",
    "model.fit(x_train,y_train,batch_size=50,epochs=20,verbose=1)"
   ]
  },
  {
   "cell_type": "code",
   "execution_count": 62,
   "metadata": {
    "execution": {
     "iopub.execute_input": "2022-08-19T17:01:20.882926Z",
     "iopub.status.busy": "2022-08-19T17:01:20.882523Z",
     "iopub.status.idle": "2022-08-19T17:01:21.542002Z",
     "shell.execute_reply": "2022-08-19T17:01:21.540911Z",
     "shell.execute_reply.started": "2022-08-19T17:01:20.882893Z"
    }
   },
   "outputs": [],
   "source": [
    "accuracy = model.evaluate(x_test, y_test, verbose=1)\n",
    "print('\\n', 'Test_Accuracy:-', accuracy[1])"
   ]
  },
  {
   "cell_type": "code",
   "execution_count": 63,
   "metadata": {
    "execution": {
     "iopub.execute_input": "2022-08-19T17:01:34.698125Z",
     "iopub.status.busy": "2022-08-19T17:01:34.697746Z",
     "iopub.status.idle": "2022-08-19T17:01:34.755357Z",
     "shell.execute_reply": "2022-08-19T17:01:34.754372Z",
     "shell.execute_reply.started": "2022-08-19T17:01:34.698086Z"
    }
   },
   "outputs": [],
   "source": [
    "from keras.models import load_model\n",
    "model.save('cells.h5')"
   ]
  },
  {
   "cell_type": "code",
   "execution_count": 65,
   "metadata": {
    "execution": {
     "iopub.execute_input": "2022-08-19T17:02:29.526682Z",
     "iopub.status.busy": "2022-08-19T17:02:29.526324Z",
     "iopub.status.idle": "2022-08-19T17:02:29.537720Z",
     "shell.execute_reply": "2022-08-19T17:02:29.536597Z",
     "shell.execute_reply.started": "2022-08-19T17:02:29.526651Z"
    }
   },
   "outputs": [],
   "source": [
    "from keras.models import load_model\n",
    "from PIL import Image\n",
    "from PIL import Image\n",
    "import numpy as np\n",
    "import os\n",
    "import cv2\n",
    "def convert_to_array(img):\n",
    "    im = cv2.imread(img)\n",
    "    img_ = Image.fromarray(im, 'RGB')\n",
    "    image = img_.resize((50, 50))\n",
    "    return np.array(image)\n",
    "def get_cell_name(label):\n",
    "    if label==0:\n",
    "        return \"Paracitized\"\n",
    "    if label==1:\n",
    "        return \"Uninfected\"\n",
    "def predict_cell(file):\n",
    "    model = load_model('cells.h5')\n",
    "    print(\"Predicting Type of Cell Image.................................\")\n",
    "    ar=convert_to_array(file)\n",
    "    ar=ar/255\n",
    "    label=1\n",
    "    a=[]\n",
    "    a.append(ar)\n",
    "    a=np.array(a)\n",
    "    score=model.predict(a,verbose=1)\n",
    "    print(score)\n",
    "    label_index=np.argmax(score)\n",
    "    print(label_index)\n",
    "    acc=np.max(score)\n",
    "    Cell=get_cell_name(label_index)\n",
    "    return Cell,\"The predicted Cell is a \"+Cell+\" with accuracy =    \"+str(acc)"
   ]
  }
 ],
 "metadata": {
  "kernelspec": {
   "display_name": "Python 3 (ipykernel)",
   "language": "python",
   "name": "python3"
  },
  "language_info": {
   "codemirror_mode": {
    "name": "ipython",
    "version": 3
   },
   "file_extension": ".py",
   "mimetype": "text/x-python",
   "name": "python",
   "nbconvert_exporter": "python",
   "pygments_lexer": "ipython3",
   "version": "3.8.13"
  }
 },
 "nbformat": 4,
 "nbformat_minor": 4
}
